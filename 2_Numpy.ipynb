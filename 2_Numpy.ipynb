{
 "cells": [
  {
   "cell_type": "markdown",
   "metadata": {
    "id": "mkd0OkpMmkQH"
   },
   "source": [
    "## 3주차 실습 수업 모범 답안"
   ]
  },
  {
   "cell_type": "markdown",
   "metadata": {
    "id": "kKmYLeRZ4Kjl"
   },
   "source": [
    "### 배열 생성"
   ]
  },
  {
   "cell_type": "code",
   "execution_count": 1,
   "metadata": {
    "id": "igBotNTFmrYK"
   },
   "outputs": [],
   "source": [
    "# 사용할 라이브러리 가져오기\n",
    "import numpy as np\n",
    "import time\n",
    "from numpy.random import rand, normal, randint"
   ]
  },
  {
   "cell_type": "code",
   "execution_count": 2,
   "metadata": {
    "colab": {
     "base_uri": "https://localhost:8080/"
    },
    "id": "HDR3eBE0wPOu",
    "outputId": "11ee8fb6-56fd-4585-804d-7af236486c6c"
   },
   "outputs": [
    {
     "name": "stdout",
     "output_type": "stream",
     "text": [
      "[0.93545546 0.3846934  0.59288447 0.1476344  0.66362987 0.71285068\n",
      " 0.8490949  0.22020764 0.64199014 0.8023674 ]\n"
     ]
    }
   ],
   "source": [
    "#1)\n",
    "x = 10\n",
    "random_number = rand(x)\n",
    "print(random_number)"
   ]
  },
  {
   "cell_type": "code",
   "execution_count": 3,
   "metadata": {
    "colab": {
     "base_uri": "https://localhost:8080/"
    },
    "id": "lFtQsacpwRGB",
    "outputId": "75ba335f-a2c6-4bc5-95a9-073614a16f05"
   },
   "outputs": [
    {
     "name": "stdout",
     "output_type": "stream",
     "text": [
      "A\n",
      "[[483 486 286 130 421]\n",
      " [426 383 358 547 542]]\n"
     ]
    }
   ],
   "source": [
    "#2)\n",
    "x = 1\n",
    "y = 1000\n",
    "z = (2,5)  # 2 rows x 5 columns 행렬\n",
    "np.random.seed(12345)\n",
    "A = randint(x,y,z)\n",
    "print(f'A\\n{A}')"
   ]
  },
  {
   "cell_type": "code",
   "execution_count": 4,
   "metadata": {
    "colab": {
     "base_uri": "https://localhost:8080/"
    },
    "id": "o_tBEEO0wP84",
    "outputId": "6ebcf421-1e25-46c3-abf6-53907ac2581a"
   },
   "outputs": [
    {
     "name": "stdout",
     "output_type": "stream",
     "text": [
      "np.sum(A)\n",
      "4062\n",
      "Row sum: np.sum(A, axis=1)\n",
      "[1806 2256]\n",
      "Column sum: np.sum(A, axis=0)\n",
      "[909 869 644 677 963]\n"
     ]
    }
   ],
   "source": [
    "#2-1)\n",
    "print(f'np.sum(A)\\n{np.sum(A)}') \n",
    "print(f'Row sum: np.sum(A, axis=1)\\n{np.sum(A, axis=1)}') \n",
    "print(f'Column sum: np.sum(A, axis=0)\\n{np.sum(A, axis=0)}')"
   ]
  },
  {
   "cell_type": "code",
   "execution_count": 5,
   "metadata": {
    "colab": {
     "base_uri": "https://localhost:8080/"
    },
    "id": "NWm8YcTuwQB3",
    "outputId": "c626f1ea-ab5e-4c33-a4ba-bf26b6cbc0dc"
   },
   "outputs": [
    {
     "name": "stdout",
     "output_type": "stream",
     "text": [
      "np.mean(A)\n",
      "406.2\n",
      "Row mean: np.mean(A, axis=1)\n",
      "[361.2 451.2]\n",
      "Column mean: np.mean(A, axis=0)\n",
      "[454.5 434.5 322.  338.5 481.5]\n"
     ]
    }
   ],
   "source": [
    "#2-2)\n",
    "print(f'np.mean(A)\\n{np.mean(A)}') \n",
    "print(f'Row mean: np.mean(A, axis=1)\\n{np.mean(A, axis=1)}') \n",
    "print(f'Column mean: np.mean(A, axis=0)\\n{np.mean(A, axis=0)}')"
   ]
  },
  {
   "cell_type": "code",
   "execution_count": 6,
   "metadata": {
    "colab": {
     "base_uri": "https://localhost:8080/"
    },
    "id": "VxyP2-xNwP4A",
    "outputId": "24975d7f-f783-4430-b619-02a5d9bb5735"
   },
   "outputs": [
    {
     "name": "stdout",
     "output_type": "stream",
     "text": [
      "0.23296944633426442\n",
      "0.5351306762548669\n",
      "-0.05428410321862476\n",
      "-0.00917099351412709\n"
     ]
    }
   ],
   "source": [
    "#3)\n",
    "mu = 5\n",
    "sigma = 1\n",
    "np.random.seed(12345)\n",
    "sample1 = normal(loc=mu, scale=sigma, size=5)\n",
    "sample2 = normal(loc=mu, scale=sigma, size=10)\n",
    "sample3 = normal(loc=mu, scale=sigma, size=100)\n",
    "sample4 = normal(loc=mu, scale=sigma, size=1000)\n",
    "\n",
    "#3-1)\n",
    "mean1 = sample1.mean()\n",
    "mean2 = sample2.mean()\n",
    "mean3 = sample3.mean()\n",
    "mean4 = sample4.mean()\n",
    "print(mean1-mu)\n",
    "print(mean2-mu)\n",
    "print(mean3-mu)\n",
    "print(mean4-mu)\n"
   ]
  },
  {
   "cell_type": "code",
   "execution_count": 7,
   "metadata": {
    "colab": {
     "base_uri": "https://localhost:8080/"
    },
    "id": "JH74ijQkwQHA",
    "outputId": "27a0279b-2a09-44a5-8693-631feefd283e"
   },
   "outputs": [
    {
     "name": "stdout",
     "output_type": "stream",
     "text": [
      "-0.05735858977085073\n",
      "-0.22773291720762479\n",
      "0.03515818170006524\n",
      "-0.027448979500193427\n"
     ]
    }
   ],
   "source": [
    "#3-2)\n",
    "sd1 = sample1.std()\n",
    "sd2 = sample2.std()\n",
    "sd3 = sample3.std()\n",
    "sd4 = sample4.std()\n",
    "print(sd1-sigma)\n",
    "print(sd2-sigma)\n",
    "print(sd3-sigma)\n",
    "print(sd4-sigma)"
   ]
  },
  {
   "cell_type": "markdown",
   "metadata": {
    "id": "Q9vrHi344Pru"
   },
   "source": [
    "### Numpy 성능 비교"
   ]
  },
  {
   "cell_type": "code",
   "execution_count": 8,
   "metadata": {
    "colab": {
     "base_uri": "https://localhost:8080/"
    },
    "id": "oTQ_k__UwQL_",
    "outputId": "361a7e56-7898-4ca1-e554-91ee877ffabb"
   },
   "outputs": [],
   "source": [
    "#4)\n",
    "N = 300 # 행, 열의 크기\n",
    "matrix_A = np.array(rand(N, N))\n",
    "matrix_B = np.array(rand(N, N))\n",
    "matrix_C = np.zeros((N,N))"
   ]
  },
  {
   "cell_type": "code",
   "execution_count": 9,
   "metadata": {
    "colab": {
     "base_uri": "https://localhost:8080/"
    },
    "id": "oTQ_k__UwQL_",
    "outputId": "361a7e56-7898-4ca1-e554-91ee877ffabb"
   },
   "outputs": [
    {
     "name": "stdout",
     "output_type": "stream",
     "text": [
      "Time with Python = 25.91[sec]\n"
     ]
    }
   ],
   "source": [
    "#4-1)\n",
    "start = time.time()\n",
    "\n",
    "for i in range(N):\n",
    "    for j in range(N):\n",
    "        for k in range(N):\n",
    "            matrix_C[i][j] += matrix_A[i][k] * matrix_B[k][j]\n",
    "            \n",
    "print('Time with Python = %.2f[sec]' % float(time.time() - start))"
   ]
  },
  {
   "cell_type": "code",
   "execution_count": 10,
   "metadata": {
    "colab": {
     "base_uri": "https://localhost:8080/"
    },
    "id": "ln_DvWttwQgn",
    "outputId": "944fa7ac-fca1-4ad4-ff14-9f91bc26f893"
   },
   "outputs": [
    {
     "name": "stdout",
     "output_type": "stream",
     "text": [
      "Time with Numpy = 0.01[sec]\n"
     ]
    }
   ],
   "source": [
    "#4-2)\n",
    "start = time.time()\n",
    "\n",
    "matrix_C = np.dot(matrix_A, matrix_B)\n",
    "\n",
    "print('Time with Numpy = %.2f[sec]' % float(time.time() - start))"
   ]
  },
  {
   "cell_type": "code",
   "execution_count": 11,
   "metadata": {
    "colab": {
     "base_uri": "https://localhost:8080/"
    },
    "id": "jzgI_39j5VUf",
    "outputId": "bd780dbb-127d-4cca-a732-4b73874028a9"
   },
   "outputs": [
    {
     "data": {
      "text/plain": [
       "array([0, 1, 2, 3, 4, 5, 6, 7, 8, 9])"
      ]
     },
     "execution_count": 11,
     "metadata": {},
     "output_type": "execute_result"
    }
   ],
   "source": [
    "#5)\n",
    "np.arange(0,10,1)"
   ]
  },
  {
   "cell_type": "code",
   "execution_count": 12,
   "metadata": {
    "colab": {
     "base_uri": "https://localhost:8080/"
    },
    "id": "7gbAB-oaNZqv",
    "outputId": "f9c2bfc7-e1be-4a0b-b325-f040797c017a"
   },
   "outputs": [
    {
     "data": {
      "text/plain": [
       "array([ 0.,  1.,  2.,  3.,  4.,  5.,  6.,  7.,  8.,  9., 10.])"
      ]
     },
     "execution_count": 12,
     "metadata": {},
     "output_type": "execute_result"
    }
   ],
   "source": [
    "np.linspace(0,10,11)"
   ]
  },
  {
   "cell_type": "code",
   "execution_count": 13,
   "metadata": {
    "colab": {
     "base_uri": "https://localhost:8080/"
    },
    "id": "RVCmqL7E8c8H",
    "outputId": "8cadd6e5-0315-4a5f-d82c-8d4e0280de60"
   },
   "outputs": [
    {
     "data": {
      "text/plain": [
       "array([[0., 1., 0.],\n",
       "       [0., 0., 1.],\n",
       "       [0., 0., 0.]])"
      ]
     },
     "execution_count": 13,
     "metadata": {},
     "output_type": "execute_result"
    }
   ],
   "source": [
    "#6)\n",
    "np.eye(N=3, M=3, k=1)"
   ]
  },
  {
   "cell_type": "code",
   "execution_count": 14,
   "metadata": {
    "colab": {
     "base_uri": "https://localhost:8080/"
    },
    "id": "qQoxONxGNihZ",
    "outputId": "0db531f7-29c3-42a2-ce71-b2f2d82f34d5"
   },
   "outputs": [
    {
     "data": {
      "text/plain": [
       "array([[0., 0., 0.],\n",
       "       [1., 0., 0.],\n",
       "       [0., 1., 0.]])"
      ]
     },
     "execution_count": 14,
     "metadata": {},
     "output_type": "execute_result"
    }
   ],
   "source": [
    "np.eye(N=3, M=3, k=-1)"
   ]
  },
  {
   "cell_type": "code",
   "execution_count": 15,
   "metadata": {
    "colab": {
     "base_uri": "https://localhost:8080/"
    },
    "id": "Fv87H1ot5VcB",
    "outputId": "55600020-b064-4f04-c67b-e19ebaaa01c1"
   },
   "outputs": [
    {
     "data": {
      "text/plain": [
       "array([[ 0,  0,  0,  0],\n",
       "       [ 0,  5,  0,  0],\n",
       "       [ 0,  0, 10,  0],\n",
       "       [ 0,  0,  0, 15]])"
      ]
     },
     "execution_count": 15,
     "metadata": {},
     "output_type": "execute_result"
    }
   ],
   "source": [
    "#7)\n",
    "np.diag(np.arange(0,20,5))"
   ]
  },
  {
   "cell_type": "markdown",
   "metadata": {
    "id": "GUacmgvK_Civ"
   },
   "source": [
    "### 행렬의 곱"
   ]
  },
  {
   "cell_type": "code",
   "execution_count": 16,
   "metadata": {
    "colab": {
     "base_uri": "https://localhost:8080/"
    },
    "id": "h7MVsVlo8dID",
    "outputId": "b35be7a9-5c0d-4084-a436-22dab4230136"
   },
   "outputs": [
    {
     "name": "stdout",
     "output_type": "stream",
     "text": [
      "[[19 22]\n",
      " [43 50]] \n",
      "\n",
      "[[17 23]\n",
      " [39 53]]\n"
     ]
    }
   ],
   "source": [
    "#8)\n",
    "A = np.array([[1,2],[3,4]])\n",
    "B = np.array([[5,6],[7,8]])\n",
    "\n",
    "#8-1)\n",
    "print(np.dot(A,B), \"\\n\")\n",
    "print(np.inner(A,B))"
   ]
  },
  {
   "cell_type": "code",
   "execution_count": 17,
   "metadata": {
    "colab": {
     "base_uri": "https://localhost:8080/"
    },
    "id": "DUxZe3EGwQla",
    "outputId": "2c5e0da9-1462-40b8-a6e8-3b47ccef7000"
   },
   "outputs": [
    {
     "name": "stdout",
     "output_type": "stream",
     "text": [
      "A*B = [[19 22]\n",
      " [43 50]]\n",
      "A*B = [[19 22]\n",
      " [43 50]]\n",
      "A*B = [[19 22]\n",
      " [43 50]]\n",
      "A*B = [[19 22]\n",
      " [43 50]]\n"
     ]
    }
   ],
   "source": [
    "#8-2)\n",
    "C = A.dot(B) \n",
    "print(\"A*B =\", C) \n",
    "\n",
    "C = np.dot(A,B) \n",
    "print(\"A*B =\", C) \n",
    "\n",
    "C =  np.mat(A) * np.mat(B) \n",
    "print(\"A*B =\", C) \n",
    "\n",
    "C =  np.matmul(A,B) \n",
    "print(\"A*B =\", C)"
   ]
  },
  {
   "cell_type": "code",
   "execution_count": 18,
   "metadata": {
    "colab": {
     "base_uri": "https://localhost:8080/"
    },
    "id": "dPMoJDePwQqA",
    "outputId": "7b4edeb1-5baf-4ff8-d9ec-4e6cc76f6e01"
   },
   "outputs": [
    {
     "name": "stdout",
     "output_type": "stream",
     "text": [
      "M= [[ 42  54  65  53]\n",
      " [ 70  98 108  82]\n",
      " [ 98 127 146 103]]\n"
     ]
    }
   ],
   "source": [
    "#9)\n",
    "A = np.array([[1, 5, 3], [4, 6, 6], [3, 8, 9]]) \n",
    "B = np.array([[1, 5, 3, 4], [4, 5, 7, 8], [7, 8, 9, 3]]) \n",
    "M =  np.matmul(A,B) \n",
    "print(\"M=\", M)"
   ]
  },
  {
   "cell_type": "markdown",
   "metadata": {
    "id": "QBlVA7bdHqE8"
   },
   "source": [
    "### 행렬의 전치(transpose)"
   ]
  },
  {
   "cell_type": "code",
   "execution_count": 19,
   "metadata": {
    "colab": {
     "base_uri": "https://localhost:8080/"
    },
    "id": "vdqLRPG8FWAe",
    "outputId": "5d5cc94d-6026-4d4a-f417-c0fb759d55ad"
   },
   "outputs": [
    {
     "name": "stdout",
     "output_type": "stream",
     "text": [
      "A=\n",
      "[[ 1  3  7  2]\n",
      " [ 5  8 -9  0]\n",
      " [ 6 -7 11 12]]\n"
     ]
    }
   ],
   "source": [
    "#10)\n",
    "A = np.array([[1, 3, 7, 2], [5, 8, -9, 0], [6, -7, 11, 12]])\n",
    "print(\"A=\"); print(A)"
   ]
  },
  {
   "cell_type": "code",
   "execution_count": 20,
   "metadata": {
    "colab": {
     "base_uri": "https://localhost:8080/"
    },
    "id": "XWJz9K8SPFhN",
    "outputId": "300ae8de-555e-4a65-f040-8721935e74f4",
    "scrolled": true
   },
   "outputs": [
    {
     "name": "stdout",
     "output_type": "stream",
     "text": [
      "Transpose of A=\n",
      "[[ 1  5  6]\n",
      " [ 3  8 -7]\n",
      " [ 7 -9 11]\n",
      " [ 2  0 12]]\n"
     ]
    }
   ],
   "source": [
    "Atr= np.transpose(A)\n",
    "print(\"Transpose of A=\"); print(Atr)"
   ]
  },
  {
   "cell_type": "markdown",
   "metadata": {
    "id": "y8V9EPDAKBHB"
   },
   "source": [
    "### 행렬식(determinant)"
   ]
  },
  {
   "cell_type": "code",
   "execution_count": 21,
   "metadata": {
    "colab": {
     "base_uri": "https://localhost:8080/"
    },
    "id": "xL78kIjPFWNy",
    "outputId": "5026c471-a2d6-4188-fc14-dd4ba5c5432c"
   },
   "outputs": [
    {
     "name": "stdout",
     "output_type": "stream",
     "text": [
      "-2.0000000000000004\n"
     ]
    }
   ],
   "source": [
    "#11)\n",
    "import numpy.linalg as la\n",
    "\n",
    "A = np.array([[1, 2], [3, 4]])\n",
    "Adet= la.det(A)\n",
    "print(Adet)"
   ]
  },
  {
   "cell_type": "code",
   "execution_count": 22,
   "metadata": {
    "colab": {
     "base_uri": "https://localhost:8080/"
    },
    "id": "zdGShot8FWVy",
    "outputId": "541d188e-3f88-40f5-e4e5-7cb438feb5fd"
   },
   "outputs": [
    {
     "name": "stdout",
     "output_type": "stream",
     "text": [
      "-21.00000000000001\n"
     ]
    }
   ],
   "source": [
    "B = np.array([[-1, 3, 0], [2, 1, -5], [1, 4, -2]])\n",
    "Bdet= la.det(B)\n",
    "print(Bdet)"
   ]
  },
  {
   "cell_type": "markdown",
   "metadata": {
    "id": "mKMn9nxoPrTQ"
   },
   "source": [
    "### 역행렬"
   ]
  },
  {
   "cell_type": "code",
   "execution_count": 23,
   "metadata": {
    "colab": {
     "base_uri": "https://localhost:8080/"
    },
    "id": "VEHv_DAVPt94",
    "outputId": "6a91a9aa-b276-4a4a-d6e6-2ae098426426"
   },
   "outputs": [
    {
     "name": "stdout",
     "output_type": "stream",
     "text": [
      "[[-2.   1. ]\n",
      " [ 1.5 -0.5]]\n"
     ]
    }
   ],
   "source": [
    "#12)\n",
    "Ainv = la.inv(A)\n",
    "print(Ainv)"
   ]
  },
  {
   "cell_type": "code",
   "execution_count": 24,
   "metadata": {
    "colab": {
     "base_uri": "https://localhost:8080/"
    },
    "id": "l4zeehovPufa",
    "outputId": "b906d499-65ba-4b3a-bf5b-ba4c17ba3952"
   },
   "outputs": [
    {
     "name": "stdout",
     "output_type": "stream",
     "text": [
      "[[-0.85714286 -0.28571429  0.71428571]\n",
      " [ 0.04761905 -0.0952381   0.23809524]\n",
      " [-0.33333333 -0.33333333  0.33333333]]\n"
     ]
    }
   ],
   "source": [
    "Binv = la.inv(B)\n",
    "print(Binv)"
   ]
  },
  {
   "cell_type": "markdown",
   "metadata": {
    "id": "yO-Ibw22PrtC"
   },
   "source": [
    "### 고유값"
   ]
  },
  {
   "cell_type": "code",
   "execution_count": 25,
   "metadata": {
    "colab": {
     "base_uri": "https://localhost:8080/"
    },
    "id": "f3xfekVuPujz",
    "outputId": "e0c58061-ff5b-46f5-b8d3-a77c7eef2600"
   },
   "outputs": [
    {
     "name": "stdout",
     "output_type": "stream",
     "text": [
      "[-0.37228132  5.37228132]\n"
     ]
    }
   ],
   "source": [
    "#13)\n",
    "Aeig, v = la.eig(A)\n",
    "print(Aeig)"
   ]
  },
  {
   "cell_type": "markdown",
   "metadata": {
    "id": "dT1lh5nDPsdL"
   },
   "source": [
    "### 선형방정식"
   ]
  },
  {
   "cell_type": "code",
   "execution_count": 26,
   "metadata": {
    "colab": {
     "base_uri": "https://localhost:8080/"
    },
    "id": "ZeuW2HVfPuoA",
    "outputId": "c756c3d7-7411-4f02-daf1-da12282f88ec"
   },
   "outputs": [
    {
     "name": "stdout",
     "output_type": "stream",
     "text": [
      "[[1.]\n",
      " [2.]]\n"
     ]
    }
   ],
   "source": [
    "#14)\n",
    "# x1 + 3*x2 = 7\n",
    "# 2*x1 + 5*x2 = 12\n",
    "A = np.array([[1,3],[2,5]])\n",
    "b = np.array([7,12]).reshape(2,1)\n",
    "\n",
    "#14-1)\n",
    "x = np.matmul(la.inv(A), b)\n",
    "print(x)"
   ]
  },
  {
   "cell_type": "code",
   "execution_count": 27,
   "metadata": {
    "colab": {
     "base_uri": "https://localhost:8080/"
    },
    "id": "9wbCcWqVPusU",
    "outputId": "3e432f8e-2d96-48d6-c1a8-f56abea944ba"
   },
   "outputs": [
    {
     "data": {
      "text/plain": [
       "array([[1.],\n",
       "       [2.]])"
      ]
     },
     "execution_count": 27,
     "metadata": {},
     "output_type": "execute_result"
    }
   ],
   "source": [
    "#14-2)\n",
    "np.linalg.solve(A,b)"
   ]
  },
  {
   "cell_type": "markdown",
   "metadata": {
    "id": "Y16RxyHxPs7e"
   },
   "source": [
    "### 특이행렬"
   ]
  },
  {
   "cell_type": "code",
   "execution_count": 28,
   "metadata": {
    "id": "LS_H4U13Puwj"
   },
   "outputs": [],
   "source": [
    "#15)\n",
    "from numpy.linalg import LinAlgError\n",
    "\n",
    "def check_sing(A): \n",
    "  print('A = ') \n",
    "  print(np.array(A)) \n",
    "  try: \n",
    "    np.linalg.inv(A) \n",
    "  except LinAlgError as e: \n",
    "    print(e)\n",
    "  else: \n",
    "    print('Not singular!') \n",
    "  print()"
   ]
  },
  {
   "cell_type": "code",
   "execution_count": 29,
   "metadata": {
    "colab": {
     "base_uri": "https://localhost:8080/"
    },
    "id": "28UZuSOBPu0R",
    "outputId": "02cb0c39-e109-4b6e-c59f-e0b488cda15a",
    "scrolled": true
   },
   "outputs": [
    {
     "name": "stdout",
     "output_type": "stream",
     "text": [
      "A = \n",
      "[[0 0]\n",
      " [0 0]]\n",
      "Singular matrix\n",
      "\n"
     ]
    }
   ],
   "source": [
    "#15-1)\n",
    "check_sing([[0, 0], [0, 0]])"
   ]
  },
  {
   "cell_type": "code",
   "execution_count": 30,
   "metadata": {
    "colab": {
     "base_uri": "https://localhost:8080/"
    },
    "id": "onRWkb_OPu4b",
    "outputId": "27bfb96a-9bf8-4c8b-9b77-2ee62238e3e6"
   },
   "outputs": [
    {
     "name": "stdout",
     "output_type": "stream",
     "text": [
      "A = \n",
      "[[1. 0. 0. 0.]\n",
      " [0. 1. 0. 0.]\n",
      " [0. 0. 1. 0.]\n",
      " [0. 0. 0. 1.]]\n",
      "Not singular!\n",
      "\n"
     ]
    }
   ],
   "source": [
    "#15-2)\n",
    "check_sing(np.eye(4))"
   ]
  },
  {
   "cell_type": "code",
   "execution_count": 31,
   "metadata": {
    "colab": {
     "base_uri": "https://localhost:8080/"
    },
    "id": "_D_WTY3rPu8B",
    "outputId": "0eb9dbce-7bc2-448a-85b9-50df8ed015c0"
   },
   "outputs": [
    {
     "name": "stdout",
     "output_type": "stream",
     "text": [
      "A = \n",
      "[[ 0.05485407  0.27890458 -0.07399833]\n",
      " [-1.43190271  1.44352613 -0.3511314 ]\n",
      " [ 0.13450537 -1.2288247  -0.51980169]]\n",
      "Not singular!\n",
      "\n",
      "A = \n",
      "[[ 0.6499399  -0.57789408  0.41071036]\n",
      " [-0.35368101 -1.00035163  0.97099344]\n",
      " [ 1.20224816  0.50764601  0.05730023]]\n",
      "Not singular!\n",
      "\n",
      "A = \n",
      "[[-0.33669798 -0.52721077  0.45665021]\n",
      " [-0.31979101 -2.77109361  0.06819525]\n",
      " [-1.27561849 -1.06213929  1.44407006]]\n",
      "Not singular!\n",
      "\n",
      "A = \n",
      "[[ 0.1842034   0.50735908  0.5096157 ]\n",
      " [ 2.14834713 -0.82490663 -0.34259836]\n",
      " [ 0.76028404 -1.00442329  0.87987617]]\n",
      "Not singular!\n",
      "\n",
      "A = \n",
      "[[-1.20168646 -0.01021002 -0.31519027]\n",
      " [ 0.77320193 -1.17813767  0.87912274]\n",
      " [ 0.89640093  0.13341222  0.06517489]]\n",
      "Not singular!\n",
      "\n",
      "A = \n",
      "[[-0.7736675  -1.0141297  -0.95165379]\n",
      " [-0.00267569 -0.28753705  1.11348616]\n",
      " [ 0.54983845  1.98970402 -2.04811513]]\n",
      "Not singular!\n",
      "\n",
      "A = \n",
      "[[ 0.06679469 -0.01812925 -0.41390759]\n",
      " [ 0.35732265 -0.33561651 -1.34763773]\n",
      " [-0.27920661  0.51795599  0.12649928]]\n",
      "Not singular!\n",
      "\n",
      "A = \n",
      "[[-0.98282672 -0.38656305 -0.43895947]\n",
      " [ 0.82160404 -0.55279652 -1.14810108]\n",
      " [-0.25793909 -1.12445354  2.25217671]]\n",
      "Not singular!\n",
      "\n",
      "A = \n",
      "[[-0.59610636 -1.50486369 -0.76681802]\n",
      " [ 0.47436581  0.79173436  1.10902013]\n",
      " [ 0.17221821 -2.0198557  -0.26866435]]\n",
      "Not singular!\n",
      "\n",
      "A = \n",
      "[[-1.56172008  0.48800592  3.39674078]\n",
      " [ 0.52024845  0.33461655 -0.22741529]\n",
      " [-0.31922352 -0.6697645   0.24359125]]\n",
      "Not singular!\n",
      "\n"
     ]
    }
   ],
   "source": [
    "#15-3)\n",
    "for j in range(10): \n",
    "  check_sing(np.random.randn(3, 3))"
   ]
  }
 ],
 "metadata": {
  "colab": {
   "provenance": []
  },
  "kernelspec": {
   "display_name": "Python 3 (ipykernel)",
   "language": "python",
   "name": "python3"
  },
  "language_info": {
   "codemirror_mode": {
    "name": "ipython",
    "version": 3
   },
   "file_extension": ".py",
   "mimetype": "text/x-python",
   "name": "python",
   "nbconvert_exporter": "python",
   "pygments_lexer": "ipython3",
   "version": "3.9.12"
  }
 },
 "nbformat": 4,
 "nbformat_minor": 1
}
