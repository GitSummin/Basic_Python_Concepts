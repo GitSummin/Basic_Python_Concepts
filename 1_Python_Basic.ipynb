{
  "nbformat": 4,
  "nbformat_minor": 0,
  "metadata": {
    "colab": {
      "provenance": [],
      "toc_visible": true
    },
    "kernelspec": {
      "name": "python3",
      "display_name": "Python 3"
    },
    "language_info": {
      "name": "python"
    }
  },
  "cells": [
    {
      "cell_type": "markdown",
      "source": [
        "# 2주차 실습 수업 모범 답안"
      ],
      "metadata": {
        "id": "Z57knITbpoFV"
      }
    },
    {
      "cell_type": "markdown",
      "source": [
        "### Hello World 실습"
      ],
      "metadata": {
        "id": "sYJ2hr9A6YNG"
      }
    },
    {
      "cell_type": "code",
      "source": [
        "#1)\n",
        "print(\"Hello world\")"
      ],
      "metadata": {
        "colab": {
          "base_uri": "https://localhost:8080/"
        },
        "id": "Ktv-4v7l6x8M",
        "outputId": "d9bce915-1e07-43e3-be0a-5e7a970a62b1"
      },
      "execution_count": 1,
      "outputs": [
        {
          "output_type": "stream",
          "name": "stdout",
          "text": [
            "Hello world\n"
          ]
        }
      ]
    },
    {
      "cell_type": "code",
      "source": [
        "#2)\n",
        "print('통계분석방법 수강생' + ' 정말'*2 + ' 반갑습니다')"
      ],
      "metadata": {
        "colab": {
          "base_uri": "https://localhost:8080/"
        },
        "id": "--c-mapy7EcP",
        "outputId": "4a54de25-69ad-4008-ad8d-6a518c1749b0"
      },
      "execution_count": 2,
      "outputs": [
        {
          "output_type": "stream",
          "name": "stdout",
          "text": [
            "통계분석방법 수강생 정말 정말 반갑습니다\n"
          ]
        }
      ]
    },
    {
      "cell_type": "code",
      "source": [
        "#3)\n",
        "print('1 \\n5')"
      ],
      "metadata": {
        "colab": {
          "base_uri": "https://localhost:8080/"
        },
        "id": "E6-FbpfJvQ0O",
        "outputId": "fc53917d-d0fb-4b18-ff27-05870f8a39f1"
      },
      "execution_count": 3,
      "outputs": [
        {
          "output_type": "stream",
          "name": "stdout",
          "text": [
            "1 \n",
            "5\n"
          ]
        }
      ]
    },
    {
      "cell_type": "code",
      "source": [
        "#4)\n",
        "print(\"안녕하세요\"[0])\n",
        "print(len(\"안녕하세요\"))"
      ],
      "metadata": {
        "colab": {
          "base_uri": "https://localhost:8080/"
        },
        "id": "zuVXSOIoYzUJ",
        "outputId": "51647a97-0dc4-40f3-e1cb-e00ec8ce38ef"
      },
      "execution_count": 4,
      "outputs": [
        {
          "output_type": "stream",
          "name": "stdout",
          "text": [
            "안\n",
            "5\n"
          ]
        }
      ]
    },
    {
      "cell_type": "code",
      "source": [
        "#5)\n",
        "input_a = int(input(\"정수를 입력하세요: \"))\n",
        "input_b = int(input(\"정수를 입력하세요: \"))\n",
        "\n",
        "print(input_a + input_b)"
      ],
      "metadata": {
        "colab": {
          "base_uri": "https://localhost:8080/"
        },
        "id": "qnLDC67uZWj0",
        "outputId": "08f34e7d-cfd6-40dc-8ba4-8a86b2724ef2"
      },
      "execution_count": 5,
      "outputs": [
        {
          "output_type": "stream",
          "name": "stdout",
          "text": [
            "정수를 입력하세요: 2\n",
            "정수를 입력하세요: 4\n",
            "6\n"
          ]
        }
      ]
    },
    {
      "cell_type": "markdown",
      "source": [
        "### 리스트 실습"
      ],
      "metadata": {
        "id": "l9eaf9O-Zypl"
      }
    },
    {
      "cell_type": "code",
      "source": [
        "#6)\n",
        "list1 = ['apple', 100, 'banana']\n",
        "print('List_1 = ', list1)"
      ],
      "metadata": {
        "colab": {
          "base_uri": "https://localhost:8080/"
        },
        "id": "E3WUtxhGaXvQ",
        "outputId": "7012ffe0-684a-4b4d-f4a0-be5ffdda63aa"
      },
      "execution_count": 6,
      "outputs": [
        {
          "output_type": "stream",
          "name": "stdout",
          "text": [
            "List_1 =  ['apple', 100, 'banana']\n"
          ]
        }
      ]
    },
    {
      "cell_type": "code",
      "source": [
        "#7)\n",
        "a = [1, 2, 3, 4, 5]\n",
        "print('Length of a :', len(a), ' a = ', a)\n",
        "#7-1)\n",
        "a.append(6)\n",
        "print('Length of a :', len(a), ' a = ', a)\n",
        "#7-2)\n",
        "a.append([6, 7, 8])\n",
        "print('Length of a :', len(a), ' a = ', a)\n",
        "#7-3)\n",
        "a.extend([9, 10])\n",
        "print('Length of a :', len(a), ' a = ', a)\n",
        "#7-4)\n",
        "a.pop()\n",
        "print('Length of a :', len(a), ' a = ', a)"
      ],
      "metadata": {
        "colab": {
          "base_uri": "https://localhost:8080/"
        },
        "id": "ZP4EzGNNaoq-",
        "outputId": "ebe90943-ff2e-4b65-d199-e5bc3a1c98ac"
      },
      "execution_count": 7,
      "outputs": [
        {
          "output_type": "stream",
          "name": "stdout",
          "text": [
            "Length of a : 5  a =  [1, 2, 3, 4, 5]\n",
            "Length of a : 6  a =  [1, 2, 3, 4, 5, 6]\n",
            "Length of a : 7  a =  [1, 2, 3, 4, 5, 6, [6, 7, 8]]\n",
            "Length of a : 9  a =  [1, 2, 3, 4, 5, 6, [6, 7, 8], 9, 10]\n",
            "Length of a : 8  a =  [1, 2, 3, 4, 5, 6, [6, 7, 8], 9]\n"
          ]
        }
      ]
    },
    {
      "cell_type": "markdown",
      "source": [
        "### 조건문 실습"
      ],
      "metadata": {
        "id": "W5cZEp8NgFq5"
      }
    },
    {
      "cell_type": "code",
      "source": [
        "#8)\n",
        "score = 81\n",
        "\n",
        "if score > 80:\n",
        "  print('pass')\n",
        "else:\n",
        "  print('fail')"
      ],
      "metadata": {
        "colab": {
          "base_uri": "https://localhost:8080/"
        },
        "outputId": "3e08dd60-641e-4adb-df1a-1b4501a5143e",
        "id": "xf0VXtl6gYkV"
      },
      "execution_count": 8,
      "outputs": [
        {
          "output_type": "stream",
          "name": "stdout",
          "text": [
            "pass\n"
          ]
        }
      ]
    },
    {
      "cell_type": "code",
      "source": [
        "#9)\n",
        "score = int(input(\"Input your score :\"))\n",
        "\n",
        "if score >= 90:\n",
        "  print(\"A학점입니다.\")\n",
        "elif score >= 80:\n",
        "  print(\"B학점입니다.\")\n",
        "elif score >= 70:\n",
        "  print(\"C학점입니다.\")\n",
        "elif score >= 60:\n",
        "  print(\"D학점입니다.\")\n",
        "else :\n",
        "  print(\"F학점입니다.\") \n"
      ],
      "metadata": {
        "colab": {
          "base_uri": "https://localhost:8080/"
        },
        "outputId": "8444a291-15e2-43b0-eeb1-1998055aa58f",
        "id": "LhYIt1FmgYkW"
      },
      "execution_count": 9,
      "outputs": [
        {
          "output_type": "stream",
          "name": "stdout",
          "text": [
            "Input your score :95\n",
            "A학점입니다.\n"
          ]
        }
      ]
    },
    {
      "cell_type": "markdown",
      "source": [
        "### 반복문 실습"
      ],
      "metadata": {
        "id": "Klpd3marg93k"
      }
    },
    {
      "cell_type": "code",
      "source": [
        "#10)\n",
        "n = 100\n",
        "while n > 0:\n",
        "    n -= 10\n",
        "    print(n)"
      ],
      "metadata": {
        "colab": {
          "base_uri": "https://localhost:8080/"
        },
        "id": "Wx86gnxParxH",
        "outputId": "017158e3-25cd-40a0-a292-62795da95066"
      },
      "execution_count": 10,
      "outputs": [
        {
          "output_type": "stream",
          "name": "stdout",
          "text": [
            "90\n",
            "80\n",
            "70\n",
            "60\n",
            "50\n",
            "40\n",
            "30\n",
            "20\n",
            "10\n",
            "0\n"
          ]
        }
      ]
    },
    {
      "cell_type": "code",
      "source": [
        "#11)\n",
        "x = 0\n",
        "while x < 11:\n",
        "  print(\"{!s}\".format(x))\n",
        "  x += 1"
      ],
      "metadata": {
        "colab": {
          "base_uri": "https://localhost:8080/"
        },
        "id": "2sWw4tJxasZm",
        "outputId": "c4674bdb-0ad5-421e-b8e5-d71001ec4382"
      },
      "execution_count": 11,
      "outputs": [
        {
          "output_type": "stream",
          "name": "stdout",
          "text": [
            "0\n",
            "1\n",
            "2\n",
            "3\n",
            "4\n",
            "5\n",
            "6\n",
            "7\n",
            "8\n",
            "9\n",
            "10\n"
          ]
        }
      ]
    },
    {
      "cell_type": "code",
      "source": [
        "#12)\n",
        "a = ['save', 'shade', 'upright', 'amid', 'so', 'tweet', 'modern', 'meter', 'dresser', 'gosh']\n",
        "\n",
        "#12-1)\n",
        "for word in a:\n",
        "    print(word)"
      ],
      "metadata": {
        "colab": {
          "base_uri": "https://localhost:8080/"
        },
        "id": "90lr-CClarlm",
        "outputId": "bae6fac4-a187-4483-de92-9b0d1d31c4e2"
      },
      "execution_count": 12,
      "outputs": [
        {
          "output_type": "stream",
          "name": "stdout",
          "text": [
            "save\n",
            "shade\n",
            "upright\n",
            "amid\n",
            "so\n",
            "tweet\n",
            "modern\n",
            "meter\n",
            "dresser\n",
            "gosh\n"
          ]
        }
      ]
    },
    {
      "cell_type": "code",
      "source": [
        "#12-2)\n",
        "for word in a:\n",
        "  if word.startswith('s'):\n",
        "    print(word)"
      ],
      "metadata": {
        "colab": {
          "base_uri": "https://localhost:8080/"
        },
        "id": "kL5AvWPbarbA",
        "outputId": "e092690c-eaec-4489-d022-85663d59ed00"
      },
      "execution_count": 13,
      "outputs": [
        {
          "output_type": "stream",
          "name": "stdout",
          "text": [
            "save\n",
            "shade\n",
            "so\n"
          ]
        }
      ]
    },
    {
      "cell_type": "markdown",
      "source": [
        "### 'def' 실습"
      ],
      "metadata": {
        "id": "GlmWGCuImmHT"
      }
    },
    {
      "cell_type": "code",
      "source": [
        "#13)\n",
        "def getMean(numericValues):\n",
        "    return sum(numericValues)/len(numericValues)\n",
        "\n",
        "#13-1)\n",
        "a_list = [3,4,5,6,10]\n",
        "print(\"Output #13-1): {!s}\".format(getMean(a_list)))"
      ],
      "metadata": {
        "colab": {
          "base_uri": "https://localhost:8080/"
        },
        "id": "0tJtoF2darPG",
        "outputId": "e32ff0b1-c19b-496c-caba-8bcdac99cbed"
      },
      "execution_count": 14,
      "outputs": [
        {
          "output_type": "stream",
          "name": "stdout",
          "text": [
            "Output #13-1): 5.6\n"
          ]
        }
      ]
    },
    {
      "cell_type": "code",
      "source": [
        "#13-2)\n",
        "b_list = []\n",
        "print(\"Output #13-2): {!s}\".format(getMean(b_list)))"
      ],
      "metadata": {
        "colab": {
          "base_uri": "https://localhost:8080/",
          "height": 339
        },
        "id": "VFNVMIRHo6U9",
        "outputId": "525a4022-836c-40e9-d710-3fda46d841ca"
      },
      "execution_count": 15,
      "outputs": [
        {
          "output_type": "error",
          "ename": "ZeroDivisionError",
          "evalue": "ignored",
          "traceback": [
            "\u001b[0;31m---------------------------------------------------------------------------\u001b[0m",
            "\u001b[0;31mZeroDivisionError\u001b[0m                         Traceback (most recent call last)",
            "\u001b[0;32m<ipython-input-15-90c2821a30f8>\u001b[0m in \u001b[0;36m<module>\u001b[0;34m\u001b[0m\n\u001b[1;32m      1\u001b[0m \u001b[0;31m#13-2)\u001b[0m\u001b[0;34m\u001b[0m\u001b[0;34m\u001b[0m\u001b[0;34m\u001b[0m\u001b[0m\n\u001b[1;32m      2\u001b[0m \u001b[0mb_list\u001b[0m \u001b[0;34m=\u001b[0m \u001b[0;34m[\u001b[0m\u001b[0;34m]\u001b[0m\u001b[0;34m\u001b[0m\u001b[0;34m\u001b[0m\u001b[0m\n\u001b[0;32m----> 3\u001b[0;31m \u001b[0mprint\u001b[0m\u001b[0;34m(\u001b[0m\u001b[0;34m\"Output #13-2): {!s}\"\u001b[0m\u001b[0;34m.\u001b[0m\u001b[0mformat\u001b[0m\u001b[0;34m(\u001b[0m\u001b[0mgetMean\u001b[0m\u001b[0;34m(\u001b[0m\u001b[0mb_list\u001b[0m\u001b[0;34m)\u001b[0m\u001b[0;34m)\u001b[0m\u001b[0;34m)\u001b[0m\u001b[0;34m\u001b[0m\u001b[0;34m\u001b[0m\u001b[0m\n\u001b[0m",
            "\u001b[0;32m<ipython-input-14-c516e65ba97f>\u001b[0m in \u001b[0;36mgetMean\u001b[0;34m(numericValues)\u001b[0m\n\u001b[1;32m      1\u001b[0m \u001b[0;31m#13)\u001b[0m\u001b[0;34m\u001b[0m\u001b[0;34m\u001b[0m\u001b[0;34m\u001b[0m\u001b[0m\n\u001b[1;32m      2\u001b[0m \u001b[0;32mdef\u001b[0m \u001b[0mgetMean\u001b[0m\u001b[0;34m(\u001b[0m\u001b[0mnumericValues\u001b[0m\u001b[0;34m)\u001b[0m\u001b[0;34m:\u001b[0m\u001b[0;34m\u001b[0m\u001b[0;34m\u001b[0m\u001b[0m\n\u001b[0;32m----> 3\u001b[0;31m     \u001b[0;32mreturn\u001b[0m \u001b[0msum\u001b[0m\u001b[0;34m(\u001b[0m\u001b[0mnumericValues\u001b[0m\u001b[0;34m)\u001b[0m\u001b[0;34m/\u001b[0m\u001b[0mlen\u001b[0m\u001b[0;34m(\u001b[0m\u001b[0mnumericValues\u001b[0m\u001b[0;34m)\u001b[0m\u001b[0;34m\u001b[0m\u001b[0;34m\u001b[0m\u001b[0m\n\u001b[0m\u001b[1;32m      4\u001b[0m \u001b[0;34m\u001b[0m\u001b[0m\n\u001b[1;32m      5\u001b[0m \u001b[0;31m#13-1)\u001b[0m\u001b[0;34m\u001b[0m\u001b[0;34m\u001b[0m\u001b[0;34m\u001b[0m\u001b[0m\n",
            "\u001b[0;31mZeroDivisionError\u001b[0m: division by zero"
          ]
        }
      ]
    },
    {
      "cell_type": "code",
      "source": [
        "#14)\n",
        "def getMean(numericValues):\n",
        "    return sum(numericValues)/len(numericValues) if len(numericValues) > 0 \\\n",
        "    else float('nan')\n",
        "    \n",
        "#14-1)\n",
        "a_list = [3,4,5,6,10]\n",
        "print(\"Output #14-1): {!s}\".format(getMean(a_list)))\n",
        "\n",
        "#14-2)\n",
        "b_list = []\n",
        "print(\"Output #14-2): {!s}\".format(getMean(b_list)))"
      ],
      "metadata": {
        "colab": {
          "base_uri": "https://localhost:8080/"
        },
        "id": "A-Lz7nhDnwZB",
        "outputId": "455a4c00-0ad9-43a1-e420-13e9d5aaa073"
      },
      "execution_count": 16,
      "outputs": [
        {
          "output_type": "stream",
          "name": "stdout",
          "text": [
            "Output #14-1): 5.6\n",
            "Output #14-2): nan\n"
          ]
        }
      ]
    }
  ]
}
